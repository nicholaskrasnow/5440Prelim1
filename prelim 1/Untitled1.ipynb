{
 "cells": [
  {
   "cell_type": "code",
   "execution_count": 16,
   "id": "following-omega",
   "metadata": {
    "tags": []
   },
   "outputs": [],
   "source": [
    "import pandas as pd"
   ]
  },
  {
   "cell_type": "code",
   "execution_count": 17,
   "id": "frequent-boxing",
   "metadata": {},
   "outputs": [],
   "source": [
    "data = 'Data-3-5-AMP.xls'"
   ]
  },
  {
   "cell_type": "code",
   "execution_count": 18,
   "id": "rough-yacht",
   "metadata": {},
   "outputs": [],
   "source": [
    "readdata = pd.read_excel(data)"
   ]
  },
  {
   "cell_type": "code",
   "execution_count": 19,
   "id": "complex-italic",
   "metadata": {},
   "outputs": [],
   "source": [
    "import matplotlib.pyplot as plt"
   ]
  },
  {
   "cell_type": "code",
   "execution_count": 37,
   "id": "great-serum",
   "metadata": {},
   "outputs": [
    {
     "data": {
      "text/plain": [
       "Text(0.5, 1.0, 'Experimental Kinetics')"
      ]
     },
     "execution_count": 37,
     "metadata": {},
     "output_type": "execute_result"
    },
    {
     "data": {
      "image/png": "[encoded data removed]",
      "text/plain": [
       "<Figure size 432x288 with 1 Axes>"
      ]
     },
     "metadata": {
      "needs_background": "light"
     },
     "output_type": "display_data"
    }
   ],
   "source": [
    "x = readdata[\"amp\"]\n",
    "y = readdata[\"rate\"]\n",
    "z = readdata[\"error\"]\n",
    "dataplot = plt.errorbar(x,y,z,fmt='o')\n",
    "plt.xlabel('[AMP] (mM)')\n",
    "plt.ylabel('Rate (mM/s)')\n",
    "plt.title('Experimental Kinetics')"
   ]
  },
  {
   "cell_type": "code",
   "execution_count": null,
   "id": "solid-narrow",
   "metadata": {},
   "outputs": [],
   "source": []
  },
  {
   "cell_type": "code",
   "execution_count": null,
   "id": "superior-poster",
   "metadata": {},
   "outputs": [],
   "source": []
  },
  {
   "cell_type": "code",
   "execution_count": null,
   "id": "pharmaceutical-empty",
   "metadata": {},
   "outputs": [],
   "source": []
  }
 ],
 "metadata": {
  "kernelspec": {
   "display_name": "Python 3",
   "language": "python",
   "name": "python3"
  },
  "language_info": {
   "codemirror_mode": {
    "name": "ipython",
    "version": 3
   },
   "file_extension": ".py",
   "mimetype": "text/x-python",
   "name": "python",
   "nbconvert_exporter": "python",
   "pygments_lexer": "ipython3",
   "version": "3.8.5"
  }
 },
 "nbformat": 4,
 "nbformat_minor": 5
}
