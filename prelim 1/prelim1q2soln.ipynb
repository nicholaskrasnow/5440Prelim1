{
 "cells": [
  {
   "cell_type": "code",
   "execution_count": 1,
   "id": "buried-cooling",
   "metadata": {
    "tags": []
   },
   "outputs": [],
   "source": [
    "import pandas as pd"
   ]
  },
  {
   "cell_type": "code",
   "execution_count": 2,
   "id": "comic-wrong",
   "metadata": {},
   "outputs": [],
   "source": [
    "import numpy as np"
   ]
  },
  {
   "cell_type": "markdown",
   "id": "intermediate-photography",
   "metadata": {},
   "source": [
    "Load the experimental data from the excel file:"
   ]
  },
  {
   "cell_type": "code",
   "execution_count": 3,
   "id": "positive-junior",
   "metadata": {},
   "outputs": [],
   "source": [
    "data = 'Data-3-5-AMP.xls'"
   ]
  },
  {
   "cell_type": "code",
   "execution_count": 4,
   "id": "liquid-transcription",
   "metadata": {},
   "outputs": [],
   "source": [
    "readdata = pd.read_excel(data)"
   ]
  },
  {
   "cell_type": "markdown",
   "id": "necessary-dressing",
   "metadata": {},
   "source": [
    "Plot the experimental data with error bars"
   ]
  },
  {
   "cell_type": "code",
   "execution_count": 5,
   "id": "initial-canal",
   "metadata": {},
   "outputs": [],
   "source": [
    "import matplotlib.pyplot as plt"
   ]
  },
  {
   "cell_type": "code",
   "execution_count": 6,
   "id": "familiar-detective",
   "metadata": {},
   "outputs": [
    {
     "data": {
      "image/png": "[encoded data removed]",
      "text/plain": [
       "<Figure size 432x288 with 1 Axes>"
      ]
     },
     "metadata": {
      "needs_background": "light"
     },
     "output_type": "display_data"
    }
   ],
   "source": [
    "xlist = readdata[\"amp\"]\n",
    "ylist = readdata[\"rate\"]\n",
    "zlist = readdata[\"error\"]\n",
    "dataplot = plt.errorbar(xlist,ylist,zlist,fmt='o',color='blue')\n",
    "plt.xlabel('[AMP] (mM)')\n",
    "plt.ylabel('Rate (mM/s)')\n",
    "plt.title('Experimental Kinetics')\n",
    "plt.savefig('expcurve.png',dpi=300)\n",
    "plt.show()"
   ]
  },
  {
   "cell_type": "markdown",
   "id": "fleet-education",
   "metadata": {
    "tags": []
   },
   "source": [
    "Define the derived function and fit it to the data:"
   ]
  },
  {
   "cell_type": "code",
   "execution_count": 7,
   "id": "romantic-graph",
   "metadata": {},
   "outputs": [],
   "source": [
    "f6p = 0.1;\n",
    "atp = 2.3;\n",
    "pfk = 0.00012;\n",
    "Kf6p = 0.11;\n",
    "Katp = 0.42;\n",
    "kCat = 0.4;"
   ]
  },
  {
   "cell_type": "code",
   "execution_count": 8,
   "id": "spare-former",
   "metadata": {},
   "outputs": [],
   "source": [
    "from scipy.optimize import curve_fit"
   ]
  },
  {
   "cell_type": "markdown",
   "id": "intimate-buying",
   "metadata": {},
   "source": [
    "Let x represent [AMP]. The values w1, w2, Kamp, and n will be optimized. All other variables are knowns."
   ]
  },
  {
   "cell_type": "code",
   "execution_count": 9,
   "id": "forward-birthday",
   "metadata": {},
   "outputs": [],
   "source": [
    "def derived(x, w1, w2, Kamp, n):\n",
    "    return kCat*pfk*(f6p/(Kf6p+f6p))*(atp/(Katp+atp))*(w1+w2*(((x/Kamp)**n)/(1+(x/Kamp)**n))/(1+w1+w2*(((x/Kamp)**n)/(1+(x/Kamp)**n))))"
   ]
  },
  {
   "cell_type": "code",
   "execution_count": 10,
   "id": "hollow-judgment",
   "metadata": {},
   "outputs": [],
   "source": [
    "pars, cov = curve_fit(derived, xlist, ylist)"
   ]
  },
  {
   "cell_type": "code",
   "execution_count": 11,
   "id": "invisible-helmet",
   "metadata": {},
   "outputs": [
    {
     "name": "stdout",
     "output_type": "stream",
     "text": [
      "[ 0.01837426 11.44798947  0.26253513  2.79441456]\n"
     ]
    }
   ],
   "source": [
    "print(pars)"
   ]
  },
  {
   "cell_type": "markdown",
   "id": "chicken-nothing",
   "metadata": {},
   "source": [
    "The above values of \"pars\" correspond to w1, w2, Kamp, and n, respectively.\n",
    "\n",
    "Plot the fit and the data together to observe the accuracy of the model:"
   ]
  },
  {
   "cell_type": "code",
   "execution_count": 20,
   "id": "straight-sheffield",
   "metadata": {},
   "outputs": [
    {
     "data": {
      "image/png": "[encoded data removed]",
      "text/plain": [
       "<Figure size 432x288 with 1 Axes>"
      ]
     },
     "metadata": {
      "needs_background": "light"
     },
     "output_type": "display_data"
    }
   ],
   "source": [
    "xDomain = np.linspace(0,1)\n",
    "yvals  = derived(xDomain,pars[0],pars[1],pars[2],pars[3])\n",
    "plt.plot(xDomain,yvals,c='red',label='Fit')\n",
    "plt.errorbar(xlist,ylist,zlist,fmt='o',c='blue',label='Data')\n",
    "plt.xlabel('[AMP] (mM)')\n",
    "plt.ylabel('Rate (mM/s)')\n",
    "plt.title('Modelled and Experimental PFK-1 Kinetics')\n",
    "plt.legend(loc=)\n",
    "plt.savefig('fitcurve.png',dpi=300)\n",
    "plt.show()"
   ]
  },
  {
   "cell_type": "markdown",
   "id": "emerging-airline",
   "metadata": {},
   "source": [
    "The model fits the data strongly. It follows the sigmoidal shape seen in experimental data that is characteristic of cooperativity (n) > 1"
   ]
  },
  {
   "cell_type": "code",
   "execution_count": null,
   "id": "fallen-building",
   "metadata": {},
   "outputs": [],
   "source": []
  }
 ],
 "metadata": {
  "kernelspec": {
   "display_name": "Python 3",
   "language": "python",
   "name": "python3"
  },
  "language_info": {
   "codemirror_mode": {
    "name": "ipython",
    "version": 3
   },
   "file_extension": ".py",
   "mimetype": "text/x-python",
   "name": "python",
   "nbconvert_exporter": "python",
   "pygments_lexer": "ipython3",
   "version": "3.8.5"
  }
 },
 "nbformat": 4,
 "nbformat_minor": 5
}
